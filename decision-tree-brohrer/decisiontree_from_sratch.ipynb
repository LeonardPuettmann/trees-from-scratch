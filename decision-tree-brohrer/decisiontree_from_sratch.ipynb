{
  "cells": [
    {
      "cell_type": "code",
      "execution_count": 1,
      "metadata": {
        "gather": {
          "logged": 1662840912785
        },
        "jupyter": {
          "outputs_hidden": false,
          "source_hidden": false
        },
        "nteract": {
          "transient": {
            "deleting": false
          }
        }
      },
      "outputs": [],
      "source": [
        "%matplotlib qt \n",
        "import datetime\n",
        "import requests\n",
        "import json\n",
        "import pickle\n",
        "\n",
        "import pandas as pd \n",
        "import numpy as np\n",
        "\n",
        "import matplotlib.pyplot as plt\n",
        "\n",
        "from decision_tree import DecisionTree\n",
        "from judge import Judge"
      ]
    },
    {
      "cell_type": "code",
      "execution_count": 2,
      "metadata": {
        "gather": {
          "logged": 1662752361807
        }
      },
      "outputs": [],
      "source": [
        "def custom_scatter(x, y):\n",
        "    plt.figure(figsize=(15, 15))\n",
        "    plt.plot(\n",
        "        x, y,\n",
        "        color='black',\n",
        "        marker='.',\n",
        "        linestyle='none',\n",
        "        alpha=0.1\n",
        "    )\n",
        "\n",
        "    plt.show()\n",
        "\n",
        "def create_features(datestrs):\n",
        "    feature_data = []\n",
        "    for datestr in datestrs:\n",
        "        current_date = datetime.datetime.strptime(datestr, '%Y-%m-%d').date()\n",
        "\n",
        "        current_weekday = current_date.weekday()\n",
        "        day_of_week = np.zeros(7)\n",
        "        day_of_week[current_weekday] = 1\n",
        "\n",
        "        current_month = current_date.month\n",
        "        month_of_year = np.zeros(12)\n",
        "        # Adjust months to January = 0\n",
        "        month_of_year[current_month -1] = 1\n",
        "\n",
        "        # Season 0 = winter, 1 = spring, 2 = summer, 3 = autumn\n",
        "        season = np.zeros(4)\n",
        "        if current_month <= 2:\n",
        "            season[0] = 1\n",
        "        elif current_month <= 5:\n",
        "            season[1] = 1\n",
        "        elif current_month <= 8:\n",
        "            season[2] = 1\n",
        "        elif current_month <= 11:\n",
        "            season[3] = 1\n",
        "        else:\n",
        "            season[0] = 1\n",
        "\n",
        "        feature_set = {\n",
        "            'Saturday': day_of_week[5],\n",
        "            'Sunday': day_of_week[6],\n",
        "            'winter': season[0],\n",
        "            'spring': season[1],\n",
        "            'summer': season[2],\n",
        "            'autumn': season[3],\n",
        "        }\n",
        "        \n",
        "        feature_data.append(feature_set)\n",
        "\n",
        "    features = pd.DataFrame(data=feature_data, index=datestrs)\n",
        "    return features"
      ]
    },
    {
      "cell_type": "code",
      "execution_count": 3,
      "metadata": {
        "gather": {
          "logged": 1662750819681
        },
        "jupyter": {
          "outputs_hidden": false,
          "source_hidden": false
        },
        "nteract": {
          "transient": {
            "deleting": false
          }
        }
      },
      "outputs": [],
      "source": [
        "with open('trips.pickle', 'rb') as f:\n",
        "    trips = pickle.load(f)"
      ]
    },
    {
      "cell_type": "code",
      "execution_count": 4,
      "metadata": {
        "gather": {
          "logged": 1662750549297
        },
        "jupyter": {
          "outputs_hidden": false,
          "source_hidden": false
        },
        "nteract": {
          "transient": {
            "deleting": false
          }
        }
      },
      "outputs": [
        {
          "data": {
            "text/html": [
              "<div>\n",
              "<style scoped>\n",
              "    .dataframe tbody tr th:only-of-type {\n",
              "        vertical-align: middle;\n",
              "    }\n",
              "\n",
              "    .dataframe tbody tr th {\n",
              "        vertical-align: top;\n",
              "    }\n",
              "\n",
              "    .dataframe thead th {\n",
              "        text-align: right;\n",
              "    }\n",
              "</style>\n",
              "<table border=\"1\" class=\"dataframe\">\n",
              "  <thead>\n",
              "    <tr style=\"text-align: right;\">\n",
              "      <th></th>\n",
              "      <th>dep</th>\n",
              "      <th>arr</th>\n",
              "    </tr>\n",
              "  </thead>\n",
              "  <tbody>\n",
              "    <tr>\n",
              "      <th>0</th>\n",
              "      <td>2015-05-01 06:39:48</td>\n",
              "      <td>2015-05-01 07:03:15</td>\n",
              "    </tr>\n",
              "    <tr>\n",
              "      <th>1</th>\n",
              "      <td>2015-05-01 06:43:36</td>\n",
              "      <td>2015-05-01 07:08:41</td>\n",
              "    </tr>\n",
              "    <tr>\n",
              "      <th>2</th>\n",
              "      <td>2015-05-01 06:51:15</td>\n",
              "      <td>2015-05-01 07:15:16</td>\n",
              "    </tr>\n",
              "    <tr>\n",
              "      <th>3</th>\n",
              "      <td>2015-05-01 06:59:46</td>\n",
              "      <td>2015-05-01 07:25:21</td>\n",
              "    </tr>\n",
              "    <tr>\n",
              "      <th>4</th>\n",
              "      <td>2015-05-01 07:08:17</td>\n",
              "      <td>2015-05-01 07:32:14</td>\n",
              "    </tr>\n",
              "  </tbody>\n",
              "</table>\n",
              "</div>"
            ],
            "text/plain": [
              "                  dep                 arr\n",
              "0 2015-05-01 06:39:48 2015-05-01 07:03:15\n",
              "1 2015-05-01 06:43:36 2015-05-01 07:08:41\n",
              "2 2015-05-01 06:51:15 2015-05-01 07:15:16\n",
              "3 2015-05-01 06:59:46 2015-05-01 07:25:21\n",
              "4 2015-05-01 07:08:17 2015-05-01 07:32:14"
            ]
          },
          "execution_count": 4,
          "metadata": {},
          "output_type": "execute_result"
        }
      ],
      "source": [
        "trips_df = pd.DataFrame(trips)\n",
        "trips_df.head()"
      ]
    },
    {
      "cell_type": "code",
      "execution_count": 5,
      "metadata": {
        "gather": {
          "logged": 1662751598639
        },
        "jupyter": {
          "outputs_hidden": false,
          "source_hidden": false
        },
        "nteract": {
          "transient": {
            "deleting": false
          }
        }
      },
      "outputs": [
        {
          "data": {
            "text/html": [
              "<div>\n",
              "<style scoped>\n",
              "    .dataframe tbody tr th:only-of-type {\n",
              "        vertical-align: middle;\n",
              "    }\n",
              "\n",
              "    .dataframe tbody tr th {\n",
              "        vertical-align: top;\n",
              "    }\n",
              "\n",
              "    .dataframe thead th {\n",
              "        text-align: right;\n",
              "    }\n",
              "</style>\n",
              "<table border=\"1\" class=\"dataframe\">\n",
              "  <thead>\n",
              "    <tr style=\"text-align: right;\">\n",
              "      <th></th>\n",
              "      <th>2015-05-01</th>\n",
              "      <th>2015-05-02</th>\n",
              "      <th>2015-05-03</th>\n",
              "      <th>2015-05-04</th>\n",
              "      <th>2015-05-05</th>\n",
              "      <th>2015-05-06</th>\n",
              "      <th>2015-05-07</th>\n",
              "      <th>2015-05-08</th>\n",
              "      <th>2015-05-09</th>\n",
              "      <th>2015-05-10</th>\n",
              "      <th>...</th>\n",
              "      <th>2018-04-18</th>\n",
              "      <th>2018-04-19</th>\n",
              "      <th>2018-04-20</th>\n",
              "      <th>2018-04-23</th>\n",
              "      <th>2018-04-24</th>\n",
              "      <th>2018-04-25</th>\n",
              "      <th>2018-04-26</th>\n",
              "      <th>2018-04-27</th>\n",
              "      <th>2018-04-30</th>\n",
              "      <th>2018-05-01</th>\n",
              "    </tr>\n",
              "  </thead>\n",
              "  <tbody>\n",
              "    <tr>\n",
              "      <th>-60</th>\n",
              "      <td>-22.0</td>\n",
              "      <td>-26.0</td>\n",
              "      <td>-18.0</td>\n",
              "      <td>-24.0</td>\n",
              "      <td>-23.0</td>\n",
              "      <td>-22.0</td>\n",
              "      <td>-23.0</td>\n",
              "      <td>-21.0</td>\n",
              "      <td>-26.0</td>\n",
              "      <td>-18.0</td>\n",
              "      <td>...</td>\n",
              "      <td>-13.0</td>\n",
              "      <td>-20.0</td>\n",
              "      <td>-21.0</td>\n",
              "      <td>-8.0</td>\n",
              "      <td>-15.0</td>\n",
              "      <td>-17.0</td>\n",
              "      <td>-23.0</td>\n",
              "      <td>-22.0</td>\n",
              "      <td>0.0</td>\n",
              "      <td>-21.0</td>\n",
              "    </tr>\n",
              "    <tr>\n",
              "      <th>-59</th>\n",
              "      <td>-22.0</td>\n",
              "      <td>-26.0</td>\n",
              "      <td>-18.0</td>\n",
              "      <td>-24.0</td>\n",
              "      <td>-23.0</td>\n",
              "      <td>-22.0</td>\n",
              "      <td>-23.0</td>\n",
              "      <td>-21.0</td>\n",
              "      <td>-26.0</td>\n",
              "      <td>-18.0</td>\n",
              "      <td>...</td>\n",
              "      <td>-13.0</td>\n",
              "      <td>-20.0</td>\n",
              "      <td>-21.0</td>\n",
              "      <td>-8.0</td>\n",
              "      <td>-15.0</td>\n",
              "      <td>-17.0</td>\n",
              "      <td>-23.0</td>\n",
              "      <td>-22.0</td>\n",
              "      <td>0.0</td>\n",
              "      <td>-21.0</td>\n",
              "    </tr>\n",
              "    <tr>\n",
              "      <th>-58</th>\n",
              "      <td>-22.0</td>\n",
              "      <td>-26.0</td>\n",
              "      <td>-18.0</td>\n",
              "      <td>-15.0</td>\n",
              "      <td>-23.0</td>\n",
              "      <td>-22.0</td>\n",
              "      <td>-23.0</td>\n",
              "      <td>-21.0</td>\n",
              "      <td>-26.0</td>\n",
              "      <td>-18.0</td>\n",
              "      <td>...</td>\n",
              "      <td>-13.0</td>\n",
              "      <td>-20.0</td>\n",
              "      <td>-13.0</td>\n",
              "      <td>-8.0</td>\n",
              "      <td>-15.0</td>\n",
              "      <td>-17.0</td>\n",
              "      <td>-23.0</td>\n",
              "      <td>-22.0</td>\n",
              "      <td>0.0</td>\n",
              "      <td>-11.0</td>\n",
              "    </tr>\n",
              "    <tr>\n",
              "      <th>-57</th>\n",
              "      <td>-22.0</td>\n",
              "      <td>-26.0</td>\n",
              "      <td>-18.0</td>\n",
              "      <td>-15.0</td>\n",
              "      <td>-23.0</td>\n",
              "      <td>-22.0</td>\n",
              "      <td>-9.0</td>\n",
              "      <td>-21.0</td>\n",
              "      <td>-26.0</td>\n",
              "      <td>-18.0</td>\n",
              "      <td>...</td>\n",
              "      <td>-13.0</td>\n",
              "      <td>-20.0</td>\n",
              "      <td>-13.0</td>\n",
              "      <td>-8.0</td>\n",
              "      <td>-15.0</td>\n",
              "      <td>-17.0</td>\n",
              "      <td>-15.0</td>\n",
              "      <td>-22.0</td>\n",
              "      <td>0.0</td>\n",
              "      <td>-11.0</td>\n",
              "    </tr>\n",
              "    <tr>\n",
              "      <th>-56</th>\n",
              "      <td>-22.0</td>\n",
              "      <td>-26.0</td>\n",
              "      <td>-18.0</td>\n",
              "      <td>-15.0</td>\n",
              "      <td>-17.0</td>\n",
              "      <td>-22.0</td>\n",
              "      <td>-9.0</td>\n",
              "      <td>-21.0</td>\n",
              "      <td>-26.0</td>\n",
              "      <td>-18.0</td>\n",
              "      <td>...</td>\n",
              "      <td>-13.0</td>\n",
              "      <td>-10.0</td>\n",
              "      <td>-13.0</td>\n",
              "      <td>-8.0</td>\n",
              "      <td>-15.0</td>\n",
              "      <td>-7.0</td>\n",
              "      <td>-15.0</td>\n",
              "      <td>-11.0</td>\n",
              "      <td>0.0</td>\n",
              "      <td>-11.0</td>\n",
              "    </tr>\n",
              "  </tbody>\n",
              "</table>\n",
              "<p>5 rows × 1013 columns</p>\n",
              "</div>"
            ],
            "text/plain": [
              "     2015-05-01  2015-05-02  2015-05-03  2015-05-04  2015-05-05  2015-05-06  \\\n",
              "-60       -22.0       -26.0       -18.0       -24.0       -23.0       -22.0   \n",
              "-59       -22.0       -26.0       -18.0       -24.0       -23.0       -22.0   \n",
              "-58       -22.0       -26.0       -18.0       -15.0       -23.0       -22.0   \n",
              "-57       -22.0       -26.0       -18.0       -15.0       -23.0       -22.0   \n",
              "-56       -22.0       -26.0       -18.0       -15.0       -17.0       -22.0   \n",
              "\n",
              "     2015-05-07  2015-05-08  2015-05-09  2015-05-10  ...  2018-04-18  \\\n",
              "-60       -23.0       -21.0       -26.0       -18.0  ...       -13.0   \n",
              "-59       -23.0       -21.0       -26.0       -18.0  ...       -13.0   \n",
              "-58       -23.0       -21.0       -26.0       -18.0  ...       -13.0   \n",
              "-57        -9.0       -21.0       -26.0       -18.0  ...       -13.0   \n",
              "-56        -9.0       -21.0       -26.0       -18.0  ...       -13.0   \n",
              "\n",
              "     2018-04-19  2018-04-20  2018-04-23  2018-04-24  2018-04-25  2018-04-26  \\\n",
              "-60       -20.0       -21.0        -8.0       -15.0       -17.0       -23.0   \n",
              "-59       -20.0       -21.0        -8.0       -15.0       -17.0       -23.0   \n",
              "-58       -20.0       -13.0        -8.0       -15.0       -17.0       -23.0   \n",
              "-57       -20.0       -13.0        -8.0       -15.0       -17.0       -15.0   \n",
              "-56       -10.0       -13.0        -8.0       -15.0        -7.0       -15.0   \n",
              "\n",
              "     2018-04-27  2018-04-30  2018-05-01  \n",
              "-60       -22.0         0.0       -21.0  \n",
              "-59       -22.0         0.0       -21.0  \n",
              "-58       -22.0         0.0       -11.0  \n",
              "-57       -22.0         0.0       -11.0  \n",
              "-56       -11.0         0.0       -11.0  \n",
              "\n",
              "[5 rows x 1013 columns]"
            ]
          },
          "execution_count": 5,
          "metadata": {},
          "output_type": "execute_result"
        }
      ],
      "source": [
        "arrival_times_df = pd.read_pickle('arrival_times.pickle')\n",
        "arrival_times_df.head()"
      ]
    },
    {
      "cell_type": "code",
      "execution_count": 6,
      "metadata": {
        "gather": {
          "logged": 1662752437090
        },
        "jupyter": {
          "outputs_hidden": false,
          "source_hidden": false
        },
        "nteract": {
          "transient": {
            "deleting": false
          }
        }
      },
      "outputs": [
        {
          "data": {
            "text/html": [
              "<div>\n",
              "<style scoped>\n",
              "    .dataframe tbody tr th:only-of-type {\n",
              "        vertical-align: middle;\n",
              "    }\n",
              "\n",
              "    .dataframe tbody tr th {\n",
              "        vertical-align: top;\n",
              "    }\n",
              "\n",
              "    .dataframe thead th {\n",
              "        text-align: right;\n",
              "    }\n",
              "</style>\n",
              "<table border=\"1\" class=\"dataframe\">\n",
              "  <thead>\n",
              "    <tr style=\"text-align: right;\">\n",
              "      <th></th>\n",
              "      <th>Saturday</th>\n",
              "      <th>Sunday</th>\n",
              "      <th>winter</th>\n",
              "      <th>spring</th>\n",
              "      <th>summer</th>\n",
              "      <th>autumn</th>\n",
              "    </tr>\n",
              "  </thead>\n",
              "  <tbody>\n",
              "    <tr>\n",
              "      <th>2015-05-01</th>\n",
              "      <td>0.0</td>\n",
              "      <td>0.0</td>\n",
              "      <td>0.0</td>\n",
              "      <td>1.0</td>\n",
              "      <td>0.0</td>\n",
              "      <td>0.0</td>\n",
              "    </tr>\n",
              "    <tr>\n",
              "      <th>2015-05-02</th>\n",
              "      <td>1.0</td>\n",
              "      <td>0.0</td>\n",
              "      <td>0.0</td>\n",
              "      <td>1.0</td>\n",
              "      <td>0.0</td>\n",
              "      <td>0.0</td>\n",
              "    </tr>\n",
              "    <tr>\n",
              "      <th>2015-05-03</th>\n",
              "      <td>0.0</td>\n",
              "      <td>1.0</td>\n",
              "      <td>0.0</td>\n",
              "      <td>1.0</td>\n",
              "      <td>0.0</td>\n",
              "      <td>0.0</td>\n",
              "    </tr>\n",
              "    <tr>\n",
              "      <th>2015-05-04</th>\n",
              "      <td>0.0</td>\n",
              "      <td>0.0</td>\n",
              "      <td>0.0</td>\n",
              "      <td>1.0</td>\n",
              "      <td>0.0</td>\n",
              "      <td>0.0</td>\n",
              "    </tr>\n",
              "    <tr>\n",
              "      <th>2015-05-05</th>\n",
              "      <td>0.0</td>\n",
              "      <td>0.0</td>\n",
              "      <td>0.0</td>\n",
              "      <td>1.0</td>\n",
              "      <td>0.0</td>\n",
              "      <td>0.0</td>\n",
              "    </tr>\n",
              "  </tbody>\n",
              "</table>\n",
              "</div>"
            ],
            "text/plain": [
              "            Saturday  Sunday  winter  spring  summer  autumn\n",
              "2015-05-01       0.0     0.0     0.0     1.0     0.0     0.0\n",
              "2015-05-02       1.0     0.0     0.0     1.0     0.0     0.0\n",
              "2015-05-03       0.0     1.0     0.0     1.0     0.0     0.0\n",
              "2015-05-04       0.0     0.0     0.0     1.0     0.0     0.0\n",
              "2015-05-05       0.0     0.0     0.0     1.0     0.0     0.0"
            ]
          },
          "execution_count": 6,
          "metadata": {},
          "output_type": "execute_result"
        }
      ],
      "source": [
        "features_df = create_features(list(arrival_times_df.columns))\n",
        "features_df.head()\n",
        "\n",
        "# Advice from Brandon on features:\n",
        "# Use as few features as you can get away with. More features means of course that our model might get \n",
        "# more sources of variability and might give us better predictions. These infos might have an influence on \n",
        "# what we are trying to predict. But, there is a cost to this. The more features we have, the more data we need\n",
        "# to avoid overfitting. \n",
        "\n",
        "# If a model with 100 features is only performing slightly better than a model with 10 feautures, that's no good\n",
        "# because the cost of training and maintaining the model is also increased by a lot.\n",
        "\n",
        "# More features also often mean that we need more sources for data."
      ]
    },
    {
      "cell_type": "code",
      "execution_count": 7,
      "metadata": {
        "gather": {
          "logged": 1662753091992
        },
        "jupyter": {
          "outputs_hidden": false,
          "source_hidden": false
        },
        "nteract": {
          "transient": {
            "deleting": false
          }
        }
      },
      "outputs": [],
      "source": [
        "# Make last adjustment to the arrival_times_df (30 = 9.30 am, or 30 mins late)\n",
        "arrival_times_df.fillna(value=30, inplace=True)"
      ]
    },
    {
      "cell_type": "code",
      "execution_count": 8,
      "metadata": {},
      "outputs": [],
      "source": [
        "judge = Judge(arrival_times_df)"
      ]
    },
    {
      "cell_type": "code",
      "execution_count": 9,
      "metadata": {
        "gather": {
          "logged": 1662840785262
        },
        "jupyter": {
          "outputs_hidden": false,
          "source_hidden": false
        },
        "nteract": {
          "transient": {
            "deleting": false
          }
        }
      },
      "outputs": [],
      "source": [
        "tree = DecisionTree(err_fn=judge.find_total_absolute_deviation)\n",
        "tree.train(features_df)"
      ]
    },
    {
      "cell_type": "code",
      "execution_count": 10,
      "metadata": {},
      "outputs": [
        {
          "name": "stderr",
          "output_type": "stream",
          "text": [
            "c:\\Users\\leopu\\OneDrive\\Programming\\Python\\tree\\decision_tree.py:72: FutureWarning: Support for multi-dimensional indexing (e.g. `obj[:, None]`) is deprecated and will be removed in a future version.  Convert to a numpy array before indexing instead.\n",
            "  feature_name = self.feature_names[node.split_feature]\n"
          ]
        }
      ],
      "source": [
        "tree.render()"
      ]
    },
    {
      "cell_type": "code",
      "execution_count": null,
      "metadata": {},
      "outputs": [],
      "source": []
    }
  ],
  "metadata": {
    "kernel_info": {
      "name": "python38-azureml"
    },
    "kernelspec": {
      "display_name": "Python 3.9.0 64-bit",
      "language": "python",
      "name": "python3"
    },
    "language_info": {
      "codemirror_mode": {
        "name": "ipython",
        "version": 3
      },
      "file_extension": ".py",
      "mimetype": "text/x-python",
      "name": "python",
      "nbconvert_exporter": "python",
      "pygments_lexer": "ipython3",
      "version": "3.9.0"
    },
    "microsoft": {
      "host": {
        "AzureML": {
          "notebookHasBeenCompleted": true
        }
      }
    },
    "nteract": {
      "version": "nteract-front-end@1.0.0"
    },
    "vscode": {
      "interpreter": {
        "hash": "a5bb6742847f5c149c0b7d61ad97769a7d04a61d9c77a667e38fe9db356aeffe"
      }
    }
  },
  "nbformat": 4,
  "nbformat_minor": 2
}
