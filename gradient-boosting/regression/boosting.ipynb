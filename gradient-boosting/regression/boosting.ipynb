{
 "cells": [
  {
   "attachments": {},
   "cell_type": "markdown",
   "metadata": {},
   "source": [
    "Intuition: \n",
    "\n",
    "The basic of gradient boosting is fairly simple. We fit a model, such as a decision tree, to some data. We can then take the resudials, which are the differences between the models prediction and the actual values of the data, and fit the next model on that. Rinse and repeat. Congratulations, you now did gradient boosting! To avoid overfitting, we use a learning rate eta to prevent to model from prefectly fitting (and simply remembering) the data. "
   ]
  },
  {
   "cell_type": "code",
   "execution_count": 18,
   "metadata": {},
   "outputs": [],
   "source": [
    "# imports\n",
    "from boosting import GradientBoostingRegressor\n",
    "\n",
    "from sklearn.tree import DecisionTreeRegressor\n",
    "from sklearn.datasets import fetch_california_housing\n",
    "from sklearn.metrics import mean_squared_error\n",
    "from sklearn.model_selection import train_test_split\n",
    "\n",
    "import pandas as pd"
   ]
  },
  {
   "cell_type": "code",
   "execution_count": 19,
   "metadata": {},
   "outputs": [],
   "source": [
    "# get features and targets for california housing\n",
    "X, y = fetch_california_housing(return_X_y=True)\n",
    "\n",
    "# split data into training and testing\n",
    "X_train, X_test, y_train, y_test = train_test_split(X, y, test_size=0.2, random_state=42)"
   ]
  },
  {
   "cell_type": "code",
   "execution_count": 20,
   "metadata": {},
   "outputs": [
    {
     "name": "stdout",
     "output_type": "stream",
     "text": [
      "0.2521432927914553\n"
     ]
    }
   ],
   "source": [
    "# initialize the model and fit\n",
    "gbm = GradientBoostingRegressor(n_trees=100, max_depth=3, learning_rate=0.3)\n",
    "gbm.fit(X_train, y_train)\n",
    "\n",
    "# get predictions from the model\n",
    "y_hat = gbm.predict(X_test)\n",
    "\n",
    "# print score of the test set\n",
    "print(mean_squared_error(y_test, y_hat)) "
   ]
  },
  {
   "cell_type": "code",
   "execution_count": 21,
   "metadata": {},
   "outputs": [
    {
     "name": "stdout",
     "output_type": "stream",
     "text": [
      "0.6424109810265641\n"
     ]
    }
   ],
   "source": [
    "# compare to unboosed decision tree\n",
    "tree = DecisionTreeRegressor(max_depth=3)\n",
    "tree.fit(X_train, y_train)\n",
    "\n",
    "# get predictions from the model\n",
    "y_hat = tree.predict(X_test)\n",
    "\n",
    "# print score of the test set \n",
    "print(mean_squared_error(y_test, y_hat))"
   ]
  },
  {
   "cell_type": "code",
   "execution_count": null,
   "metadata": {},
   "outputs": [],
   "source": []
  }
 ],
 "metadata": {
  "kernelspec": {
   "display_name": "Python 3",
   "language": "python",
   "name": "python3"
  },
  "language_info": {
   "codemirror_mode": {
    "name": "ipython",
    "version": 3
   },
   "file_extension": ".py",
   "mimetype": "text/x-python",
   "name": "python",
   "nbconvert_exporter": "python",
   "pygments_lexer": "ipython3",
   "version": "3.9.2"
  },
  "orig_nbformat": 4
 },
 "nbformat": 4,
 "nbformat_minor": 2
}
